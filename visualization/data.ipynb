{
 "cells": [
  {
   "cell_type": "code",
   "execution_count": 10,
   "metadata": {
    "tags": [
     "hide-input",
     "remove-input"
    ]
   },
   "outputs": [
    {
     "name": "stdout",
     "output_type": "stream",
     "text": [
      "    0         1        2            3               4      5              6   \\\n",
      "0  NaN   airline   flight  source_city  departure_time  stops   arrival_time   \n",
      "1  0.0  SpiceJet  SG-8709        Delhi         Evening   zero          Night   \n",
      "2  1.0  SpiceJet  SG-8157        Delhi   Early_Morning   zero        Morning   \n",
      "3  2.0   AirAsia   I5-764        Delhi   Early_Morning   zero  Early_Morning   \n",
      "4  3.0   Vistara   UK-995        Delhi         Morning   zero      Afternoon   \n",
      "\n",
      "                 7        8         9          10     11  \n",
      "0  destination_city    class  duration  days_left  price  \n",
      "1            Mumbai  Economy      2.17          1   5953  \n",
      "2            Mumbai  Economy      2.33          1   5953  \n",
      "3            Mumbai  Economy      2.17          1   5956  \n",
      "4            Mumbai  Economy      2.25          1   5955  \n"
     ]
    }
   ],
   "source": [
    "{\"tags\": [\"remove-input\"]}\n",
    "import pandas as pd \n",
    "import numpy as np\n",
    "import matplotlib.pyplot as plt\n",
    "import seaborn as sns\n",
    "import plotly.io as pio\n",
    "import plotly.express as px\n",
    "import matplotlib.pyplot as plt\n",
    "import plotly.graph_objs as go\n",
    "pd.options.display.max_columns = None\n",
    "import warnings\n",
    "warnings.filterwarnings('ignore')\n",
    "data = pd.read_csv(\"C:/Users/Saede/Downloads/archive/Clean_Dataset.csv\", header = None)\n",
    "print(data.head())\n",
    "\n"
   ]
  },
  {
   "cell_type": "code",
   "execution_count": null,
   "metadata": {},
   "outputs": [],
   "source": []
  }
 ],
 "metadata": {
  "kernelspec": {
   "display_name": "Python 3",
   "language": "python",
   "name": "python3"
  },
  "language_info": {
   "codemirror_mode": {
    "name": "ipython",
    "version": 3
   },
   "file_extension": ".py",
   "mimetype": "text/x-python",
   "name": "python",
   "nbconvert_exporter": "python",
   "pygments_lexer": "ipython3",
   "version": "3.11.8"
  }
 },
 "nbformat": 4,
 "nbformat_minor": 2
}
